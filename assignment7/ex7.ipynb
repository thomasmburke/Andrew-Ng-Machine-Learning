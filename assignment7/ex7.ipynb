{
 "cells": [
  {
   "cell_type": "code",
   "execution_count": 2,
   "metadata": {},
   "outputs": [],
   "source": [
    "import numpy as np\n",
    "from scipy.io import loadmat\n",
    "import matplotlib.pyplot as plt"
   ]
  },
  {
   "cell_type": "markdown",
   "metadata": {},
   "source": [
    "================= Part 1: Find Closest Centroids ====================\n",
    "\n",
    "To help you implement K-Means, we have divided the learning algorithm \n",
    "into two functions -- findClosestCentroids and computeCentroids. In this\n",
    "part, you should complete the code in the findClosestCentroids function."
   ]
  },
  {
   "cell_type": "code",
   "execution_count": 8,
   "metadata": {},
   "outputs": [
    {
     "name": "stdout",
     "output_type": "stream",
     "text": [
      "Finding closest centroids.\n"
     ]
    }
   ],
   "source": [
    "print('Finding closest centroids.')\n",
    "# Load an example dataset that we will be using\n",
    "data = loadmat('data/ex7data2.mat')\n",
    "X = data['X']\n",
    "#Select an initial set of centroids\n",
    "K = 3 # 3 Centroids\n",
    "initial_centroids = np.array([[3,3],[6,2],[8,5]])"
   ]
  },
  {
   "cell_type": "code",
   "execution_count": 11,
   "metadata": {},
   "outputs": [],
   "source": [
    "def findClosestCentroids(X, initial_centroids):\n",
    "    \"\"\"\n",
    "    Returns the closest centroids in idx for a dataset X where each row is a single training example.\n",
    "    \"\"\"\n",
    "    m, n = X.shape\n",
    "    # gather number of centroids\n",
    "    K = initial_centroids.shape[0]\n",
    "    idx = np.zeros((m,1))\n",
    "    temp = np.zeros((K,1))\n",
    "    \n",
    "    for i in range(m):\n",
    "        for j in range(K):\n",
    "            # calculate displacement\n",
    "            dist = X[i,:] - initial_centroids[j,:]\n",
    "            length = np.sum(dist**2)\n",
    "            temp[j] = length\n",
    "        # select the smallest length\n",
    "        idx[i] = np.argmin(temp)+1\n",
    "    return idx"
   ]
  },
  {
   "cell_type": "code",
   "execution_count": 14,
   "metadata": {},
   "outputs": [
    {
     "name": "stdout",
     "output_type": "stream",
     "text": [
      "Closest centroids for the first 3 examples:\n",
      " [[1.]\n",
      " [3.]\n",
      " [2.]]\n"
     ]
    }
   ],
   "source": [
    "idx = findClosestCentroids(X, initial_centroids)\n",
    "print(\"Closest centroids for the first 3 examples:\\n\",idx[0:3])"
   ]
  },
  {
   "cell_type": "markdown",
   "metadata": {},
   "source": [
    "===================== Part 2: Compute Means =========================\n",
    "\n",
    "After implementing the closest centroids function, you should now\n",
    "complete the computeCentroids function."
   ]
  },
  {
   "cell_type": "code",
   "execution_count": 21,
   "metadata": {},
   "outputs": [],
   "source": [
    "def computeCentroids(X, idx, K):\n",
    "    \"\"\"\n",
    "    Used to move the K centroids to the center of the x^i examples that determine its location\n",
    "    \"\"\"\n",
    "    m, n = X.shape\n",
    "    centroids = np.zeros((K,n))\n",
    "    count = np.zeros((K,1))\n",
    "    for i in range(m):\n",
    "        index = int((idx[i]-1)[0])\n",
    "        # add all data points that map to a centroid\n",
    "        centroids[index,:]+=X[i,:]\n",
    "        count[index]+=1\n",
    "    # then divde by the total number of datapoints making up the centroid to get the average\n",
    "    return centroids/count"
   ]
  },
  {
   "cell_type": "code",
   "execution_count": 22,
   "metadata": {},
   "outputs": [
    {
     "name": "stdout",
     "output_type": "stream",
     "text": [
      "Centroids computed after initial finding of closest centroids:\n",
      " [[2.42830111 3.15792418]\n",
      " [5.81350331 2.63365645]\n",
      " [7.11938687 3.6166844 ]]\n"
     ]
    }
   ],
   "source": [
    "centroids = computeCentroids(X, idx, K)\n",
    "print(\"Centroids computed after initial finding of closest centroids:\\n\", centroids)"
   ]
  },
  {
   "cell_type": "code",
   "execution_count": null,
   "metadata": {},
   "outputs": [],
   "source": []
  }
 ],
 "metadata": {
  "kernelspec": {
   "display_name": "Python 3",
   "language": "python",
   "name": "python3"
  },
  "language_info": {
   "codemirror_mode": {
    "name": "ipython",
    "version": 3
   },
   "file_extension": ".py",
   "mimetype": "text/x-python",
   "name": "python",
   "nbconvert_exporter": "python",
   "pygments_lexer": "ipython3",
   "version": "3.7.0"
  }
 },
 "nbformat": 4,
 "nbformat_minor": 2
}
